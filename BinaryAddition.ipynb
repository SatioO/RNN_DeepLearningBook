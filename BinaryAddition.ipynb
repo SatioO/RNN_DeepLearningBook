{
 "cells": [
  {
   "cell_type": "code",
   "execution_count": 1,
   "metadata": {
    "collapsed": true
   },
   "outputs": [],
   "source": [
    "from __future__ import division, print_function\n",
    "\n",
    "# Python imports\n",
    "import itertools\n",
    "import numpy as np # Matrix and vector computation package\n",
    "import scipy\n",
    "import scipy.stats\n",
    "import matplotlib\n",
    "import matplotlib.pyplot as plt  # Plotting library\n",
    "# Allow matplotlib to plot inside this notebook\n",
    "%matplotlib inline\n",
    "# Set the seed of the numpy random number generator so that the tutorial is reproducable\n",
    "#np.random.seed(seed=1)"
   ]
  },
  {
   "cell_type": "code",
   "execution_count": 2,
   "metadata": {
    "collapsed": false
   },
   "outputs": [
    {
     "name": "stdout",
     "output_type": "stream",
     "text": [
      "X_train shape: (2000, 5, 2)\n",
      "T_train shape: (2000, 5, 1)\n"
     ]
    }
   ],
   "source": [
    "# Create dataset\n",
    "nb_train = 2000  # Number of training samples\n",
    "# Addition of 2 n-bit numbers can result in a n+1 bit number\n",
    "sequence_len = 5  # Length of the binary sequence\n",
    "batch_size = 20\n",
    "\n",
    "def create_sample(nb1, nb2, sequence_len):\n",
    "    format_str = '{:0' + str(sequence_len) + 'b}' # Transform integer in binary format\n",
    "    # Convert to binary representation.\n",
    "    # Note that binary numbers are added from right to left.\n",
    "    x1 = np.asarray([int(b) for b in format_str.format(nb1)])\n",
    "    x2 = np.asarray([int(b) for b in format_str.format(nb2)])\n",
    "    t = np.asarray([int(b) for b in format_str.format(nb1+nb2)])\n",
    "    return x1, x2, t\n",
    "\n",
    "def create_dataset(nb_samples, sequence_len):\n",
    "    \"\"\"Create a dataset for binary addition and return as input, targets.\"\"\"\n",
    "    max_int = 2**(sequence_len-1) # Maximum integer that can be added\n",
    "    nb_inputs = 2  # Add 2 binary numbers\n",
    "    nb_outputs = 1  # Result is 1 binary number\n",
    "    X = np.zeros((nb_samples, sequence_len, nb_inputs))  # Input samples\n",
    "    T = np.zeros((nb_samples, sequence_len, nb_outputs))  # Target samples\n",
    "    # Fill up the input and target matrix\n",
    "    for i in xrange(nb_samples):\n",
    "        # Generate random numbers to add\n",
    "        nb1 = np.random.randint(0, max_int)\n",
    "        nb2 = np.random.randint(0, max_int)\n",
    "        # Get the binary representation\n",
    "        x1, x2, t = create_sample(nb1, nb2, sequence_len)\n",
    "        # Fill current input and target row.\n",
    "        X[i,:,0] = x1\n",
    "        X[i,:,1] = x2\n",
    "        T[i,:,0] = t\n",
    "    return X, T\n",
    "\n",
    "# Create training samples\n",
    "X_train, T_train = create_dataset(nb_train, sequence_len)\n",
    "print('X_train shape: {0}'.format(X_train.shape))\n",
    "print('T_train shape: {0}'.format(T_train.shape))"
   ]
  },
  {
   "cell_type": "code",
   "execution_count": null,
   "metadata": {
    "collapsed": true
   },
   "outputs": [],
   "source": []
  },
  {
   "cell_type": "code",
   "execution_count": 3,
   "metadata": {
    "collapsed": false
   },
   "outputs": [
    {
     "name": "stdout",
     "output_type": "stream",
     "text": [
      "x1:  [1 0 0 1 0 1]\n",
      "x2:  [1 0 1 0 1 1]\n",
      "t:  [1 0 1 0 0 0 0]\n",
      "x1:   100101   37\n",
      "x2: + 101011   43 \n",
      "      -----   --\n",
      "t:  = 1010000   80\n"
     ]
    }
   ],
   "source": [
    "\n",
    " # Show an example input and target\n",
    "def printSample(x1, x2, t, y=None):\n",
    "    \"\"\"Print a sample in a more visual way.\"\"\"\n",
    "    x1_str = ''.join([str(int(d)) for d in x1])\n",
    "    x2_str = ''.join([str(int(d)) for d in x2])\n",
    "    t_str = ''.join([str(int(d)) for d in t])\n",
    "    line_str = '-'*sequence_len\n",
    "    if not y is None:\n",
    "        y_str = ''.join([str(int(d)) for d in y])\n",
    "    print('x1:   {:s}   {:2d}'.format(x1_str, int(x1_str, 2)))\n",
    "    print('x2: + {:s}   {:2d} '.format(x2_str, int(x2_str, 2)))\n",
    "    print('      ' + line_str + '   --')\n",
    "    print('t:  = {:s}   {:2d}'.format(t_str, int(t_str, 2)))\n",
    "    if not y is None:\n",
    "        print('y:  = {:s}'.format(y_str))\n",
    "    \n",
    "# Print the first sample\n",
    "x1, x2, t = create_sample(37, 43, sequence_len)\n",
    "print('x1: ', x1)\n",
    "print('x2: ', x2)\n",
    "print('t: ', t)\n",
    "printSample(x1, x2, t)"
   ]
  },
  {
   "cell_type": "code",
   "execution_count": null,
   "metadata": {
    "collapsed": true
   },
   "outputs": [],
   "source": []
  },
  {
   "cell_type": "code",
   "execution_count": 4,
   "metadata": {
    "collapsed": false
   },
   "outputs": [
    {
     "data": {
      "text/plain": [
       "array([[ -1.99133924e-04,   1.44888456e-04,   2.26960996e-05],\n",
       "       [  1.85685183e-04,   4.88238100e-05,   1.88640791e-04]])"
      ]
     },
     "execution_count": 4,
     "metadata": {},
     "output_type": "execute_result"
    }
   ],
   "source": [
    "def truncNormal(size, stdev, mean=0.0):\n",
    "    \"\"\"Return samples from a trunctuated normal.\"\"\"\n",
    "    lower = mean - 2 * stdev  # Lower cutoff\n",
    "    upper = mean + 2 * stdev  # Upper cutoff$\n",
    "    return scipy.stats.truncnorm.rvs(\n",
    "        (lower - mean) / stdev, (upper - mean) / stdev, \n",
    "        loc=mean, scale=stdev, size=size)\n",
    "\n",
    "truncNormal((2,3), stdev=0.0001)"
   ]
  },
  {
   "cell_type": "code",
   "execution_count": 5,
   "metadata": {
    "collapsed": false,
    "scrolled": false
   },
   "outputs": [
    {
     "name": "stdout",
     "output_type": "stream",
     "text": [
      "X_train shape: (2000, 5, 2)\n",
      "T_train shape: (2000, 5, 1)\n"
     ]
    }
   ],
   "source": [
    "input_size = 2\n",
    "state_size = 3\n",
    "output_size = 1\n",
    "\n",
    "# Create training samples\n",
    "X_train, T_train = create_dataset(nb_train, sequence_len)\n",
    "print('X_train shape: {0}'.format(X_train.shape))\n",
    "print('T_train shape: {0}'.format(T_train.shape))\n",
    "\n",
    "# Define input parameters\n",
    "W_x = truncNormal((input_size, state_size), stdev=0.001)\n",
    "# Define recurrence parameters\n",
    "W_rec = truncNormal((state_size, state_size), stdev=0.0001)\n",
    "b_rec = np.zeros((1, state_size))\n",
    "# Define output parameters\n",
    "W_y = truncNormal((state_size, output_size), stdev=0.001)\n",
    "b_y = np.zeros((1, output_size))\n",
    "\n",
    "def forward_step(x_k, s_kmin1):\n",
    "    \"\"\"Compute the forward pass of one step.\"\"\"\n",
    "    s_k = np.tanh(x_k.dot(W_x) + s_kmin1.dot(W_rec) + b_rec)\n",
    "    y_k = 1.0 / (1 + np.exp(-(s_k.dot(W_y) + b_y)))\n",
    "    return s_k, y_k\n",
    "\n",
    "def cost(Y, T):\n",
    "    \"\"\"Compute the total cost at the output.\"\"\"\n",
    "    # Normalise of the number of samples and sequence length.\n",
    "    # Add a small number (1e-99) because Y can become 0 if the network learns\n",
    "    #  to perfectly predict the output. log(0) is undefined.\n",
    "    return - np.sum(np.multiply(T, np.log(Y+1e-99)) + np.multiply((1-T), np.log(1-Y+1e-99)))\n",
    "\n",
    "def backward_step(gy_k, gs_k, s_k, s_kmin1, x_k):\n",
    "    \"\"\"Compute the backward pass of one step\"\"\"\n",
    "    # Process gradient coming from output\n",
    "    gW_y = s_k.T.dot(gy_k)  # Gradient of W_y\n",
    "    gb_y = np.sum(gy_k, axis=0)  # Gradient of b_y\n",
    "    gs_k = gy_k.dot(W_y.T) + gs_k  # Gradient at output of current state\n",
    "    # Process gradient through state\n",
    "    gtanh = 1.0 - np.power(s_k, 2) \n",
    "    # Gradient at output of state linear function (before tanh)\n",
    "    gs_k_lin = np.multiply(gtanh, gs_k)\n",
    "    gW_rec = s_kmin1.T.dot(gs_k_lin)\n",
    "    gb_rec = np.sum(gs_k_lin, axis=0)\n",
    "    gs_kmin1 = gs_k_lin.dot(W_rec.T)\n",
    "    # Gradient of input\n",
    "    gW_x = x_k.T.dot(gs_k_lin)\n",
    "    return gW_y, gb_y, gW_rec, gb_rec, gW_x, gs_kmin1\n",
    "\n",
    "def forward(X):\n",
    "    \"\"\"Iteratively apply forward step to all states.\"\"\"\n",
    "    #print('\\nforward')\n",
    "    # Initalise state tensor (intial state is zero)\n",
    "    S = np.zeros((batch_size, sequence_len+1, state_size))  # State tensor\n",
    "    Y = np.zeros((batch_size, sequence_len, output_size))  # Output tensor\n",
    "    # Forward through time\n",
    "    # Note that binary addition is performed from right to left.\n",
    "    #  So we unfold from right to left\n",
    "    for i in xrange(sequence_len-1, -1, -1):\n",
    "        #print('i: ', i)\n",
    "        # Update the states iteratively\n",
    "        # s_k, y_k = forward(x_k, s_kmin1)\n",
    "        S[:,i,:], Y[:,i,:] = forward_step(X[:,i,:], S[:,i+1,:])\n",
    "    return S, Y\n",
    "\n",
    "def backward(Y, T, S, X):\n",
    "    \"\"\"Return the gradient of the parmeters and the inputs of this layer.\"\"\"\n",
    "    #print('\\nbackward')\n",
    "    gY = Y - T\n",
    "    #print('gY: ', gY.shape)\n",
    "    # Initalise gradient accumulation for parameters\n",
    "    gW_x_sum = np.zeros_like(W_x)\n",
    "    #print('gW_x_sum: ', gW_x_sum.shape)\n",
    "    gW_rec_sum = np.zeros_like(W_rec)\n",
    "    #print('gW_rec_sum: ', gW_rec_sum.shape)\n",
    "    gb_rec_sum = np.zeros_like(b_rec)\n",
    "    #print('gb_rec_sum: ', gb_rec_sum.shape)\n",
    "    gW_y_sum = np.zeros_like(W_y)\n",
    "    #print('gW_y_sum: ', gW_y_sum.shape)\n",
    "    gb_y_sum = np.zeros_like(b_y)\n",
    "    #print('gb_y_sum: ', gb_y_sum.shape)\n",
    "    gs_k = np.zeros((1, state_size))\n",
    "    #print('gs_k: ', gs_k.shape)\n",
    "    # Propagate the gradients iteratively\n",
    "    for i in xrange(0, sequence_len):\n",
    "        #print('i: ', i)\n",
    "        gy_k = gY[:,i,:]\n",
    "        s_k = S[:,i+1,:]\n",
    "        s_kmin1 = S[:,i,:]\n",
    "        x_k = X[:,i,:]\n",
    "        # Propgate the gradient back through one state\n",
    "        gW_y, gb_y, gW_rec, gb_rec, gW_x, gs_k = backward_step(gy_k, gs_k, s_k, s_kmin1, x_k)\n",
    "        gW_x_sum += gW_x\n",
    "        gW_rec_sum += gW_rec\n",
    "        gb_rec_sum += gb_rec\n",
    "        gW_y_sum += gW_y\n",
    "        gb_y_sum += gb_y\n",
    "    return gW_x_sum, gW_rec_sum, gb_rec_sum, gW_y_sum, gb_y_sum \n",
    "\n",
    "\n",
    "#print('X_train: ', X_train.shape)\n",
    "#print('T_train: ', T_train.shape)\n",
    "#S, Y = forward(X_train)\n",
    "#print('S: ', S.shape)\n",
    "#print('Y: ', Y.shape)\n",
    "\n",
    "#gW_x, gW_rec, gb_rec, gW_y, gb_y = backward(Y, T_train, S, X_train)\n",
    "\n",
    "#print('gW_x: ', gW_x)\n",
    "#print('gW_rec: ', gW_rec)\n",
    "#print('gb_rec: ', gb_rec)\n",
    "#print('gW_y: ', gW_y)\n",
    "#print('gb_y: ', gb_y)"
   ]
  },
  {
   "cell_type": "code",
   "execution_count": 6,
   "metadata": {
    "collapsed": false,
    "scrolled": false
   },
   "outputs": [],
   "source": [
    "## Gradient checking\n",
    "#S, Y = forward(X_train)\n",
    "#gW_x, gW_rec, gb_rec, gW_y, gb_y = backward(Y, T_train, S, X_train)\n",
    "#eps = 1e-7  # Set the small change to compute the numerical gradient\n",
    "## Compute the numerical gradients of the parameters in all layers.\n",
    "#for P, gP, name in zip([W_x, W_rec, b_rec, W_y, b_y], [gW_x, gW_rec, gb_rec, gW_y, gb_y], ['W_x', 'W_rec', 'b_rec', 'W_y', 'b_y']):\n",
    "#    print('P name: ', name)\n",
    "#    for i in xrange(P.shape[0]):\n",
    "#        for j in xrange(P.shape[1]):\n",
    "#            gparam = gP[i,j]\n",
    "#            # + eps\n",
    "#            P[i,j] += eps\n",
    "#            plus_cost = cost(forward(X_train)[1], T_train)\n",
    "#            # - eps\n",
    "#            P[i,j] -= 2 * eps\n",
    "#            min_cost = cost(forward(X_train)[1], T_train)\n",
    "#            # reset param value\n",
    "#            P[i,j] += eps\n",
    "#            # calculate numerical gradient\n",
    "#            grad_num = (plus_cost - min_cost)/(2*eps)\n",
    "#            print('grad_num: ', grad_num)\n",
    "#            print('gparam: ', gparam)\n",
    "#            print('')\n",
    "#            # Raise error if the numerical grade is not close to the backprop gradient\n",
    "#            #if not np.isclose(grad_num, gparam):\n",
    "#                #raise ValueError(\n",
    "#                #    'Numerical gradient of {:.6f} is not close to the backpropagation gradient of {:.6f}!'.format(\n",
    "#                #        float(grad_num), float(gparam)))\n",
    "#print('No gradient errors found')"
   ]
  },
  {
   "cell_type": "code",
   "execution_count": 7,
   "metadata": {
    "collapsed": false
   },
   "outputs": [
    {
     "name": "stdout",
     "output_type": "stream",
     "text": [
      "nb_batches:  100\n"
     ]
    },
    {
     "name": "stderr",
     "output_type": "stream",
     "text": [
      "/anaconda/lib/python2.7/site-packages/ipykernel/__main__.py:22: RuntimeWarning: overflow encountered in exp\n"
     ]
    },
    {
     "name": "stdout",
     "output_type": "stream",
     "text": [
      "S:  (20, 6, 3)\n",
      "Y:  (20, 5, 1)\n",
      "result:  (20, 5, 1)\n",
      "x1:   01001    9\n",
      "x2: + 00100    4 \n",
      "      -----   --\n",
      "t:  = 01101   13\n",
      "y:  = 01010\n"
     ]
    }
   ],
   "source": [
    "\n",
    " # Set hyper-parameters\n",
    "lmbd = 0.5  # Rmsprop lambda\n",
    "learning_rate = 0.05  # Learning rate\n",
    "momentum_term = 0.80  # Momentum term\n",
    "eps = 1e-6  # Numerical stability term to prevent division by zero\n",
    "\n",
    "\n",
    "ls_of_costs = []  # Size of the minibatches (number of samples)\n",
    "nb_batches = nb_train // batch_size\n",
    "print('nb_batches: ', nb_batches)\n",
    "\n",
    "all_params = [W_x, W_rec, b_rec, W_y, b_y]\n",
    "maSquare = [np.zeros_like(p) for p in all_params]  # Rmsprop moving average\n",
    "Vs = [np.zeros_like(p) for p in all_params]  # Velocity\n",
    "\n",
    "for i in xrange(100):\n",
    "    for mb in xrange(nb_batches):\n",
    "        X_mb = X_train[mb:mb+batch_size,:,:]  # Input minibatch\n",
    "        T_mb = T_train[mb:mb+batch_size,:,:]  # Target minibatch\n",
    "        V_tmp = [v * momentum_term for v in Vs]\n",
    "        # Update each parameters according to previous gradient\n",
    "        for P, V in zip(all_params, V_tmp):\n",
    "            P += V\n",
    "        # Get gradients after following old velocity\n",
    "        S, Y = forward(X_mb)\n",
    "        c = cost(Y, T_mb)\n",
    "        ls_of_costs.append(c)\n",
    "        gW_x, gW_rec, gb_rec, gW_y, gb_y = backward(Y, T_mb, S, X_mb)\n",
    "        backprop_grads = [gW_x, gW_rec, gb_rec, gW_y, gb_y]\n",
    "        # Update each parameter seperately\n",
    "        for P, gP, ms, V, Vt  in zip(all_params, backprop_grads, maSquare, Vs, V_tmp):\n",
    "            # Update the Rmsprop moving averages\n",
    "            ms = lmbd * ms + (1-lmbd) * gP**2\n",
    "            # Calculate the Rmsprop normalised gradient\n",
    "            pGradNorm = learning_rate * gP / np.sqrt(ms + eps)\n",
    "            # Update the momentum velocity\n",
    "            V = Vt - pGradNorm     \n",
    "            P -= pGradNorm   # Update the parameter\n",
    "    \n",
    "S, Y = forward(X_train[0:1,:,:])\n",
    "result = np.round(Y)\n",
    "print('S: ', S.shape)\n",
    "print('Y: ', Y.shape)\n",
    "print('result: ', result.shape)\n",
    "\n",
    "printSample(X_train[0,:,0], X_train[0,:,1], T_train[0,:,0], result[0,:,0])"
   ]
  },
  {
   "cell_type": "code",
   "execution_count": 8,
   "metadata": {
    "collapsed": false
   },
   "outputs": [
    {
     "data": {
      "image/png": "[encoded data removed]",
      "text/plain": [
       "<matplotlib.figure.Figure at 0x10ae47f90>"
      ]
     },
     "metadata": {},
     "output_type": "display_data"
    }
   ],
   "source": [
    "# Plot the cost over the iterations\n",
    "plt.plot(ls_of_costs, 'b-')\n",
    "plt.xlabel('minibatch iteration')\n",
    "plt.ylabel('$\\\\xi$', fontsize=15)\n",
    "plt.title('Decrease of cost over backprop iteration')\n",
    "plt.grid()\n",
    "plt.show()"
   ]
  }
 ],
 "metadata": {
  "kernelspec": {
   "display_name": "Python 2",
   "language": "python",
   "name": "python2"
  },
  "language_info": {
   "codemirror_mode": {
    "name": "ipython",
    "version": 2
   },
   "file_extension": ".py",
   "mimetype": "text/x-python",
   "name": "python",
   "nbconvert_exporter": "python",
   "pygments_lexer": "ipython2",
   "version": "2.7.12"
  }
 },
 "nbformat": 4,
 "nbformat_minor": 1
}
