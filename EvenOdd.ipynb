{
 "cells": [
  {
   "cell_type": "code",
   "execution_count": 1,
   "metadata": {
    "collapsed": true
   },
   "outputs": [],
   "source": [
    "from __future__ import division, print_function\n",
    "\n",
    "# Python imports\n",
    "import numpy as np # Matrix and vector computation package\n",
    "import matplotlib\n",
    "import matplotlib.pyplot as plt  # Plotting library\n",
    "from matplotlib import cm  # Colormaps\n",
    "from matplotlib.colors import LogNorm  # Log colormaps\n",
    "# Allow matplotlib to plot inside this notebook\n",
    "%matplotlib inline\n",
    "# Set the seed of the numpy random number generator so that the tutorial is reproducable\n",
    "#np.random.seed(seed=1)"
   ]
  },
  {
   "cell_type": "code",
   "execution_count": 2,
   "metadata": {
    "collapsed": true
   },
   "outputs": [],
   "source": [
    "# Define plotting functions\n",
    "\n",
    "# Define points to annotate (wx, wRec, color)\n",
    "points = [(2,1,'r'), (1,2,'b'), (1,-2,'g'), (1,0,'c'), (1,0.5,'m'), (1,-0.5,'y')]\n",
    "\n",
    "def get_cost_surface(w1_low, w1_high, w2_low, w2_high, nb_of_ws, cost_func):\n",
    "    \"\"\"Define a vector of weights for which we want to plot the cost.\"\"\"\n",
    "    w1 = np.linspace(w1_low, w1_high, num=nb_of_ws)  # Weight 1\n",
    "    w2 = np.linspace(w2_low, w2_high, num=nb_of_ws)  # Weight 2\n",
    "    ws1, ws2 = np.meshgrid(w1, w2)  # Generate grid\n",
    "    cost_ws = np.zeros((nb_of_ws, nb_of_ws))  # Initialize cost matrix\n",
    "    # Fill the cost matrix for each combination of weights\n",
    "    for i in range(nb_of_ws):\n",
    "        for j in range(nb_of_ws):\n",
    "            cost_ws[i,j] = cost_func(ws1[i,j], ws2[i,j])\n",
    "    return ws1, ws2, cost_ws\n",
    "\n",
    "def plot_surface(ax, ws1, ws2, cost_ws):\n",
    "    \"\"\"Plot the cost in function of the weights.\"\"\"\n",
    "    surf = ax.contourf(ws1, ws2, cost_ws, levels=np.logspace(-0.2, 8, 30), cmap=cm.pink, norm=LogNorm())\n",
    "    ax.set_xlabel('$w_{in}$', fontsize=15)\n",
    "    ax.set_ylabel('$w_{rec}$', fontsize=15)\n",
    "    return surf\n",
    "\n",
    "def plot_points(ax, points):\n",
    "    \"\"\"Plot the annotation points on the given axis.\"\"\"\n",
    "    for wx, wRec, c in points:\n",
    "        ax.plot(wx, wRec, c+'o', linewidth=2)\n",
    "\n",
    "def get_cost_surface_figure(cost_func, points):\n",
    "    \"\"\"Plot the cost surfaces together with the annotated points.\"\"\"\n",
    "    # Plot figures\n",
    "    fig = plt.figure(figsize=(10, 4))\n",
    "    # Plot overview of cost function\n",
    "    ax_1 = fig.add_subplot(1,2,1)\n",
    "    ws1_1, ws2_1, cost_ws_1 = get_cost_surface(-3, 3, -3, 3, 100, cost_func)\n",
    "    surf_1 = plot_surface(ax_1, ws1_1, ws2_1, cost_ws_1 + 1)\n",
    "    plot_points(ax_1, points)\n",
    "    ax_1.set_xlim(-3, 3)\n",
    "    ax_1.set_ylim(-3, 3)\n",
    "    # Plot zoom of cost function\n",
    "    ax_2 = fig.add_subplot(1,2,2)\n",
    "    ws1_2, ws2_2, cost_ws_2 = get_cost_surface(0, 2, 0, 2, 100, cost_func)\n",
    "    surf_2 = plot_surface(ax_2, ws1_2, ws2_2, cost_ws_2 + 1)\n",
    "    plot_points(ax_2, points)\n",
    "    ax_2.set_xlim(0, 2)\n",
    "    ax_2.set_ylim(0, 2)\n",
    "    # Show the colorbar\n",
    "    fig.subplots_adjust(right=0.8)\n",
    "    cax = fig.add_axes([0.85, 0.12, 0.03, 0.78])\n",
    "    cbar = fig.colorbar(surf_1, ticks=np.logspace(0, 8, 9), cax=cax)\n",
    "    cbar.ax.set_ylabel('$\\\\xi$', fontsize=15, rotation=0, labelpad=20)\n",
    "    cbar.set_ticklabels(['{:.0e}'.format(i) for i in np.logspace(0, 8, 9)])\n",
    "    fig.suptitle('Cost surface', fontsize=15)\n",
    "    return fig\n",
    "\n",
    "def plot_gradient_over_time(points, get_grad_over_time):\n",
    "    \"\"\"Plot the gradients of the annotated point and how the evolve over time.\"\"\"\n",
    "    fig = plt.figure(figsize=(6.5, 4))\n",
    "    ax = plt.subplot(111)\n",
    "    # Plot points\n",
    "    for wx, wRec, c in points:\n",
    "        grad_over_time = get_grad_over_time(wx, wRec)\n",
    "        x = np.arange(-grad_over_time.shape[1]+1, 1, 1)\n",
    "        plt.plot(x, np.sum(grad_over_time, axis=0), c+'-', label='({0}, {1})'.format(wx, wRec), linewidth=1, markersize=8)\n",
    "    plt.xlim(0, -grad_over_time.shape[1]+1)\n",
    "    # Set up plot axis\n",
    "    plt.xticks(x)\n",
    "    plt.yscale('symlog')\n",
    "    plt.yticks([10**8, 10**6, 10**4, 10**2, 0, -10**2, -10**4, -10**6, -10**8])\n",
    "    plt.xlabel('timestep k', fontsize=12)\n",
    "    plt.ylabel('$\\\\frac{\\\\partial \\\\xi}{\\\\partial S_{k}}$', fontsize=20, rotation=0)\n",
    "    plt.grid()\n",
    "    plt.title('Unstability of gradient in backward propagation.\\n(backpropagate from left to right)')\n",
    "    # Set legend\n",
    "    leg = plt.legend(loc='center left', bbox_to_anchor=(1, 0.5), frameon=False, numpoints=1)\n",
    "    leg.set_title('$(w_x, w_{rec})$', prop={'size':15})\n",
    "\n",
    "def get_grad_over_time(wx, wRec):\n",
    "    \"\"\"Helper func to only get the gradient over time from wx and wRec.\"\"\"\n",
    "    S = forward(X, wx, wRec)\n",
    "    _, grad_over_time = backward(X, S, t, wx, wRec)\n",
    "    return grad_over_time"
   ]
  },
  {
   "cell_type": "code",
   "execution_count": 3,
   "metadata": {
    "collapsed": false
   },
   "outputs": [
    {
     "name": "stdout",
     "output_type": "stream",
     "text": [
      "X:  [ 1.  0.  0.  0.  1.  1.  0.  1.  0.  0.]\n",
      "t:  0.0\n"
     ]
    }
   ],
   "source": [
    "# Create dataset\n",
    "nb_of_samples = 100\n",
    "sequence_len = 10\n",
    "# Create the sequences\n",
    "X = np.zeros((nb_of_samples, sequence_len))\n",
    "t = np.zeros((nb_of_samples))\n",
    "for row_idx in range(nb_of_samples):\n",
    "    X[row_idx,:] = np.around(np.random.rand(sequence_len)).astype(int)\n",
    "    t[row_idx] = np.sum(X[row_idx,:]) % 2\n",
    "# Create the targets for each sequence\n",
    "\n",
    "print('X: ', X[0,:])\n",
    "print('t: ', t[0])"
   ]
  },
  {
   "cell_type": "code",
   "execution_count": 4,
   "metadata": {
    "collapsed": true
   },
   "outputs": [],
   "source": [
    "def forward(X, U, W):\n",
    "    \"\"\"\n",
    "    Unfold the network and compute all state activations given the input X,\n",
    "    and input weights (wx) and recursive weights (wRec).\n",
    "    Return the state activations in a matrix, the last column S[:,-1] contains the\n",
    "    final activations.\n",
    "    \"\"\"\n",
    "    # Initialise the matrix that holds all states for all input sequences.\n",
    "    # The initial state s0 is set to 0.\n",
    "    S = np.zeros((nb_of_samples, sequence_len+1))\n",
    "    # Update the states over the sequence\n",
    "    for k in range(0, sequence_len):\n",
    "        S[:,k+1] = X[:,k] * -1 + S[:,k] * W\n",
    "    Y = 1.0 / (1 + np.exp(-(S[:,-1] * U)))\n",
    "    return S, Y\n",
    "\n",
    "def cost(Y, T):\n",
    "    \"\"\"\n",
    "    Return the MSE between the targets t and the outputs y.\n",
    "    \"\"\"\n",
    "    return - np.sum(np.multiply(T, np.log(Y+1e-99)) + np.multiply((1-T), np.log(1-Y+1e-99)))\n",
    "\n",
    "def backward(X, S, Y, T, U, W):\n",
    "    \"\"\"\n",
    "    Backpropagate the gradient computed at the output (grad_out) through the network.\n",
    "    Accumulate the parameter gradients for wX and wRec by for each layer by addition.\n",
    "    Return the parameter gradients as a tuple, and the gradients at the output of each layer.\n",
    "    \"\"\"\n",
    "    #print('Y: ', Y.shape)\n",
    "    #print('T: ', T.shape)\n",
    "    grad_out = Y - T\n",
    "    #print('grad_out: ', grad_out.shape)\n",
    "    # Initialise the array that stores the gradients of the cost with respect to the states.\n",
    "    grad_over_time = np.zeros((X.shape[0], X.shape[1]+1))\n",
    "    #print('grad_over_time: ', grad_over_time.shape)\n",
    "    grad_over_time[:,-1] = grad_out * U\n",
    "    #print('S[:,-1]: ', S[:,-1])\n",
    "    #print('grad_out: ', grad_out)\n",
    "    gU = np.sum(S[:,-1] * grad_out)\n",
    "    #print('gU: ', gU)\n",
    "    # Set the gradient accumulations to 0\n",
    "    gW = 0\n",
    "    for k in range(X.shape[1], 0, -1):\n",
    "        # Compute the parameter gradients and accumulate the results.\n",
    "        #gU += np.sum(grad_over_time[:,k] * X[:,k-1])\n",
    "        gW += np.sum(grad_over_time[:,k] * S[:,k-1])\n",
    "        # Compute the gradient at the output of the previous layer\n",
    "        grad_over_time[:,k-1] = grad_over_time[:,k] * W\n",
    "    return (gU, gW), grad_over_time"
   ]
  },
  {
   "cell_type": "code",
   "execution_count": 5,
   "metadata": {
    "collapsed": false
   },
   "outputs": [
    {
     "name": "stdout",
     "output_type": "stream",
     "text": [
      "p:  0 0.1 1.39203845608 1.39203848448\n",
      "p:  1 0.1 0.538167180124 0.538167199693\n",
      "No gradient errors found\n"
     ]
    }
   ],
   "source": [
    "# Perform gradient checking\n",
    "# Set the weight parameters used during gradient checking\n",
    "params = [0.1, 0.1]  # [U, W]\n",
    "# Set the small change to compute the numerical gradient\n",
    "eps = 1e-7\n",
    "# Compute the backprop gradients\n",
    "S, Y = forward(X, params[0], params[1])\n",
    "backprop_grads, grad_over_time = backward(X, S, Y, t, params[0], params[1])\n",
    "# Compute the numerical gradient for each parameter in the layer\n",
    "for p_idx, _ in enumerate(params):\n",
    "    grad_backprop = backprop_grads[p_idx]\n",
    "    # + eps\n",
    "    params[p_idx] += eps\n",
    "    plus_cost = cost(forward(X, params[0], params[1])[1], t)\n",
    "    # - eps\n",
    "    params[p_idx] -= 2 * eps\n",
    "    min_cost = cost(forward(X, params[0], params[1])[1], t)\n",
    "    # reset param value\n",
    "    params[p_idx] += eps\n",
    "    # calculate numerical gradient\n",
    "    grad_num = (plus_cost - min_cost) / (2*eps)\n",
    "    print('p: ', p_idx, params[p_idx], backprop_grads[p_idx], grad_num)\n",
    "    # Raise error if the numerical grade is not close to the backprop gradient\n",
    "    if not np.isclose(grad_num, grad_backprop):\n",
    "        raise ValueError('Numerical gradient of {:.6f} is not close to the backpropagation gradient of {:.6f}!'.format(float(grad_num), float(grad_backprop)))\n",
    "print('No gradient errors found')"
   ]
  },
  {
   "cell_type": "code",
   "execution_count": 6,
   "metadata": {
    "collapsed": false
   },
   "outputs": [],
   "source": [
    "# # Perform gradient descent\n",
    "# \n",
    "# # Set hyperparameters\n",
    "# lr = 0.0003\n",
    "# \n",
    "# # Set initial parameters\n",
    "# params = [1, -1]  # [U, W]\n",
    "# \n",
    "# ls_of_ws = [(params[0], params[1])]  # List of weights to plot\n",
    "# ls_of_costs = [cost(forward(X, params[0], params[1])[1], t)]\n",
    "# ls_of_gW = []\n",
    "# # Iterate over 500 iterations\n",
    "# for i in range(2000):\n",
    "#     # Perform forward and backward pass to get the gradients\n",
    "#     S, Y = forward(X, params[0], params[1])\n",
    "#     gparams, _ = backward(X, S, Y, t, params[1])\n",
    "#     ls_of_gW.append(gparams[1])\n",
    "#     # Get the update values and sign of the last gradient\n",
    "#     params = [(p - gp * lr) for p, gp in zip(params, gparams)]\n",
    "#     c = cost(forward(X, params[0], params[1])[1], t)\n",
    "#     ls_of_costs.append(c)\n",
    "#     ls_of_ws.append((params[0], params[1]))  # Add weights to list to plot\n",
    "# \n",
    "# print('Final weights are: wx = {0},  wRec = {1}'.format(params[0], params[1]))"
   ]
  },
  {
   "cell_type": "code",
   "execution_count": 7,
   "metadata": {
    "collapsed": false
   },
   "outputs": [
    {
     "name": "stdout",
     "output_type": "stream",
     "text": [
      "Final weights are: wx = -0.055555642777,  wRec = 0.702734617072\n"
     ]
    }
   ],
   "source": [
    "# Perform Rprop optimisation\n",
    "\n",
    "# Set hyperparameters\n",
    "eta_p = 1.2\n",
    "eta_n = 0.5\n",
    "\n",
    "# Set initial parameters\n",
    "params = [-1, 1]  # [U, W]\n",
    "params_delta = [0.001, 0.001]  # Update values (Delta) for W\n",
    "params_sign = [0, 0]  # Previous sign of W\n",
    "\n",
    "ls_of_ws = [(params[0], params[1])]  # List of weights to plot\n",
    "ls_of_costs = [cost(forward(X, params[0], params[1])[1], t)]\n",
    "ls_of_gW = []\n",
    "# Iterate over 500 iterations\n",
    "for i in range(500):\n",
    "    # Perform forward and backward pass to get the gradients\n",
    "    S, Y = forward(X, params[0], params[1])\n",
    "    gparams, _ = backward(X, S, Y, t, params[0], params[1])\n",
    "    ls_of_gW.append(gparams[1])\n",
    "    params_sign_new = np.sign(gparams)  # Sign of new gradient\n",
    "    # Get the update values and sign of the last gradient\n",
    "    # Update the Delta (update value) for each weight parameter seperately\n",
    "    params_delta = [\n",
    "        (pd * eta_p) if psn == ps else (pd * eta_n)\n",
    "        for pd, psn, ps in zip(params_delta, params_sign_new, params_sign)]\n",
    "    params_sign = params_sign_new\n",
    "    # Update each weight parameter seperately\n",
    "    for i, _ in enumerate(params):\n",
    "        params[i] -= params_sign[i] * params_delta[i]\n",
    "    c = cost(forward(X, params[0], params[1])[1], t)\n",
    "    ls_of_costs.append(c)\n",
    "    ls_of_ws.append((params[0], params[1]))  # Add weights to list to plot\n",
    "\n",
    "print('Final weights are: wx = {0},  wRec = {1}'.format(params[0], params[1]))"
   ]
  },
  {
   "cell_type": "code",
   "execution_count": 8,
   "metadata": {
    "collapsed": false
   },
   "outputs": [
    {
     "name": "stdout",
     "output_type": "stream",
     "text": [
      "X:  [ 1.  0.  1.  0.  1.  0.  0.  1.  0.  1.]\n",
      "t:  1.0\n",
      "Y:  0.524863436066\n"
     ]
    }
   ],
   "source": [
    "sample_idx = 3\n",
    "S, Y = forward(X, params[0], params[1])\n",
    "print('X: ', X[sample_idx,:])\n",
    "print('t: ', t[sample_idx])\n",
    "print('Y: ', Y[sample_idx])\n",
    "\n"
   ]
  },
  {
   "cell_type": "code",
   "execution_count": 9,
   "metadata": {
    "collapsed": false
   },
   "outputs": [
    {
     "data": {
      "image/png": "[encoded data removed]",
      "text/plain": [
       "<matplotlib.figure.Figure at 0x103528b50>"
      ]
     },
     "metadata": {},
     "output_type": "display_data"
    }
   ],
   "source": [
    "# Plot the cost over the iterations\n",
    "plt.plot(ls_of_costs, 'b-')\n",
    "plt.xlabel('iteration')\n",
    "plt.ylabel('$\\\\xi$', fontsize=15)\n",
    "plt.title('Decrease of cost over backprop iteration')\n",
    "plt.grid()\n",
    "plt.show()"
   ]
  },
  {
   "cell_type": "code",
   "execution_count": 10,
   "metadata": {
    "collapsed": false
   },
   "outputs": [
    {
     "data": {
      "image/png": "[encoded data removed]",
      "text/plain": [
       "<matplotlib.figure.Figure at 0x10caef150>"
      ]
     },
     "metadata": {},
     "output_type": "display_data"
    }
   ],
   "source": [
    "plt.plot(ls_of_gW, 'b-')\n",
    "plt.xlabel('iteration')\n",
    "plt.ylabel('gW', fontsize=15)\n",
    "plt.title('gW over training')\n",
    "plt.grid()\n",
    "plt.show()"
   ]
  },
  {
   "cell_type": "code",
   "execution_count": 11,
   "metadata": {
    "collapsed": false
   },
   "outputs": [
    {
     "name": "stderr",
     "output_type": "stream",
     "text": [
      "/anaconda/lib/python2.7/site-packages/ipykernel/__main__.py:14: RuntimeWarning: overflow encountered in exp\n"
     ]
    },
    {
     "data": {
      "image/png": "[encoded data removed]",
      "text/plain": [
       "<matplotlib.figure.Figure at 0x10d1d6650>"
      ]
     },
     "metadata": {},
     "output_type": "display_data"
    }
   ],
   "source": [
    "# Plot the cost surface with the weights over the iterations.\n",
    "\n",
    "# Define plot function\n",
    "def plot_optimisation(ls_of_ws, cost_func):\n",
    "    \"\"\"Plot the optimisation iterations on the cost surface.\"\"\"\n",
    "    ws1, ws2 = zip(*ls_of_ws)\n",
    "    # Plot figures\n",
    "    fig = plt.figure(figsize=(10, 4))\n",
    "    # Plot overview of cost function\n",
    "    ax_1 = fig.add_subplot(1,2,1)\n",
    "    ws1_1, ws2_1, cost_ws_1 = get_cost_surface(-3, 3, -3, 3, 100, cost_func)\n",
    "    surf_1 = plot_surface(ax_1, ws1_1, ws2_1, cost_ws_1 + 1)\n",
    "    for i in xrange(1, len(ws1)):\n",
    "        ax_1.arrow(ws1[i-1], ws2[i-1], ws1[i]-ws1[i-1], ws2[i]-ws2[i-1], \n",
    "                   head_width=0.1, head_length=0.1, fc='k', ec='k')\n",
    "    ax_1.plot(ws1, ws2, 'b.-')\n",
    "    ax_1.set_xlim([-3,3])\n",
    "    ax_1.set_ylim([-3,3])\n",
    "    # Plot zoom of cost function\n",
    "    #ax_2 = fig.add_subplot(1,2,2)\n",
    "    #ws1_2, ws2_2, cost_ws_2 = get_cost_surface(0, 2, 0, 2, 100, cost_func)\n",
    "    #surf_2 = plot_surface(ax_2, ws1_2, ws2_2, cost_ws_2 + 1)\n",
    "    #ax_2.set_xlim([0,2])\n",
    "    #ax_2.set_ylim([0,2])\n",
    "    #surf_2 = plot_surface(ax_2, ws1_2, ws2_2, cost_ws_2)\n",
    "    #for i in xrange(1, len(ws1)):\n",
    "    #    ax_2.arrow(ws1[i-1], ws2[i-1], ws1[i]-ws1[i-1], ws2[i]-ws2[i-1], \n",
    "    #           head_width=0.05, head_length=0.05, fc='k', ec='k')\n",
    "    #ax_2.plot(ws1, ws2, 'b.-')\n",
    "    ## Show the colorbar\n",
    "    #fig.subplots_adjust(right=0.8)\n",
    "    cax = fig.add_axes([0.85, 0.12, 0.03, 0.78])\n",
    "    #cbar = fig.colorbar(surf_1, ticks=np.logspace(0, 8, 9), cax=cax)\n",
    "    cbar = fig.colorbar(surf_1, cax=cax)\n",
    "    cbar.ax.set_ylabel('$\\\\xi$', fontsize=15)\n",
    "    #cbar.set_ticklabels(['{:.0e}'.format(i) for i in np.logspace(0, 8, 9)])\n",
    "    plt.suptitle('Cost surface', fontsize=15)\n",
    "    plt.show()\n",
    "\n",
    "# Plot the optimisation\n",
    "plot_optimisation(ls_of_ws, lambda w1, w2: cost(forward(X, w1, w2)[1] , t))\n",
    "plt.show()"
   ]
  }
 ],
 "metadata": {
  "kernelspec": {
   "display_name": "Python 2",
   "language": "python",
   "name": "python2"
  },
  "language_info": {
   "codemirror_mode": {
    "name": "ipython",
    "version": 2
   },
   "file_extension": ".py",
   "mimetype": "text/x-python",
   "name": "python",
   "nbconvert_exporter": "python",
   "pygments_lexer": "ipython2",
   "version": "2.7.12"
  }
 },
 "nbformat": 4,
 "nbformat_minor": 1
}
